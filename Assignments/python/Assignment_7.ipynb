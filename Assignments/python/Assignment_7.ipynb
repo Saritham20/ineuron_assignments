{
 "cells": [
  {
   "cell_type": "code",
   "execution_count": 1,
   "id": "52e63a40-d0d0-41ff-bb06-941baa2c7ea7",
   "metadata": {},
   "outputs": [
    {
     "name": "stdout",
     "output_type": "stream",
     "text": [
      "First variable is 40 & second variable is 30\n",
      "Addition: 40 + 30 = 70\n",
      "Subtraction: 40 - 30 = 10\n",
      "Multiplication: 40 * 30 = 1200\n",
      "Division: 40 / 30 = 1.3333333333333333\n"
     ]
    }
   ],
   "source": [
    "\"\"\"\n",
    "\n",
    "Q.1. Create two int type variables, apply addition, subtraction, division and multiplications and store the results in variables. Then print the data in the following format by calling the variables:\n",
    "First variable is __ & second variable is __. Addition: __ + __ = __\n",
    "Subtraction: __ - __ = __\n",
    "Multiplication: __ * __ = __\n",
    "Division: __ / __ = __\n",
    "\n",
    "\"\"\"\n",
    "\n",
    "# Solution\n",
    "\n",
    "# Create two variables\n",
    "first_variable = 40\n",
    "second_variable = 30\n",
    "\n",
    "# Perform arithmetic operations and store the results\n",
    "addition = first_variable + second_variable\n",
    "subtraction = first_variable - second_variable\n",
    "multiplication = first_variable * second_variable\n",
    "division = first_variable / second_variable\n",
    "\n",
    "# Print the results\n",
    "print(\"First variable is\", first_variable, \"& second variable is\", second_variable) # First variable is 40 & second variable is 30\n",
    "print(\"Addition:\", first_variable, \"+\", second_variable, \"=\", addition) # Addition: 40 + 30 = 70\n",
    "print(\"Subtraction:\", first_variable, \"-\", second_variable, \"=\", subtraction) # Subtraction: 40 - 30 = 10\n",
    "print(\"Multiplication:\", first_variable, \"*\", second_variable, \"=\", multiplication) # Multiplication: 40 * 30 = 1200\n",
    "print(\"Division:\", first_variable, \"/\", second_variable, \"=\", division) # Division: 40 / 30 = 1.3333333333333333\n"
   ]
  },
  {
   "cell_type": "code",
   "execution_count": 4,
   "id": "124c13aa-a4c3-4f70-8bc0-e6351cb2dace",
   "metadata": {},
   "outputs": [
    {
     "data": {
      "text/plain": [
       "\"Q.2. What is the difference between the following operators:\\n(i) ‘/’ & ‘//’\\n(ii) ‘**’ & ‘^’\\n\\nSolution- (i) The difference between the / and // operators is as follows:\\n              '/' is the division operator, which performs normal division and returns a float result.\\n              '//' is the floor division operator, which performs division and rounds down the result to the nearest whole number. It returns an integer result.\\n                \\n  \""
      ]
     },
     "execution_count": 4,
     "metadata": {},
     "output_type": "execute_result"
    }
   ],
   "source": [
    "\"\"\"Q.2. What is the difference between the following operators:\n",
    "(i) ‘/’ & ‘//’\n",
    "(ii) ‘**’ & ‘^’\n",
    "\n",
    "Solution- (i) The difference between the / and // operators is as follows:\n",
    "              '/' is the division operator, which performs normal division and returns a float result.\n",
    "              '//' is the floor division operator, which performs division and rounds down the result to the nearest whole number. It returns an integer result.\n",
    "                \n",
    "  \"\"\"            "
   ]
  },
  {
   "cell_type": "code",
   "execution_count": 6,
   "id": "96b299c7-135c-43a9-a20b-6d2e9f57c6cb",
   "metadata": {},
   "outputs": [
    {
     "name": "stdout",
     "output_type": "stream",
     "text": [
      "2.5\n",
      "2\n"
     ]
    }
   ],
   "source": [
    "x = 5\n",
    "y = 2\n",
    "                        \n",
    "result1 = x / y\n",
    "result2 = x // y\n",
    "\n",
    "print(result1)  # Output: 2.5\n",
    "print(result2)  # Output: 2\n",
    "                       \n",
    "              "
   ]
  },
  {
   "cell_type": "code",
   "execution_count": null,
   "id": "95ba418f-8490-46f2-8613-269deb879340",
   "metadata": {},
   "outputs": [],
   "source": [
    "\"\"\"\n",
    "'**' is the exponentiation operator, which raises the left operand to the power of the right operand.\n",
    "'^' is not the exponentiation operator. Instead, it is the bitwise XOR operator, used for performing bitwise XOR operation on the binary representation of the operands.\n",
    "\n",
    "\"\"\"\n",
    "             \n",
    "\n",
    "\n"
   ]
  },
  {
   "cell_type": "code",
   "execution_count": 7,
   "id": "7129f058-a547-4cb2-802e-0b4978621370",
   "metadata": {},
   "outputs": [
    {
     "name": "stdout",
     "output_type": "stream",
     "text": [
      "8\n",
      "1\n"
     ]
    }
   ],
   "source": [
    "x = 2\n",
    "y = 3\n",
    "\n",
    "result1 = x ** y\n",
    "result2 = x ^ y\n",
    "\n",
    "print(result1)  # Output: 8\n",
    "print(result2)  # Output: 1 (bitwise XOR of 2 and 3 in binary is 0001, which is 1 in decimal)"
   ]
  },
  {
   "cell_type": "code",
   "execution_count": null,
   "id": "4770c6e2-fac0-4888-8837-81db60670ccd",
   "metadata": {},
   "outputs": [],
   "source": [
    "Q.3. List the logical operators.\n",
    "\n",
    "Solution- The logical operators are:\n",
    "\n",
    "           (i) and: The and operator returns True if both operands are True, and False otherwise.\n",
    "           \n",
    "           (ii) or: The or operator returns True if at least one of the operands is True, and False otherwise.\n",
    "           \n",
    "           (iii) not: The not operator returns the opposite boolean value of its operand. If the operand is True, not returns False, and if the operand is False, not returns True.\n",
    "\n",
    "\"\"\"\n",
    "\n",
    "\"\"\"\n",
    "\n",
    "Q.4. Explain right shift operator and left shift operator with examples.\n",
    "\n",
    "Solution- (i) right shift operator- The right shift operator (>>) are bitwise shift operators. It moves the bits of a number towards the right by a specified number of positions.\n",
    "Each shift to the right effectively divides the number by 2. The rightmost bit is discarded, and a new bit of 0 is inserted at the leftmost position.\n",
    "                                    \n",
    "                                    "
   ]
  },
  {
   "cell_type": "code",
   "execution_count": 8,
   "id": "ef8717cb-5a04-4cad-bf64-09793309fd83",
   "metadata": {},
   "outputs": [
    {
     "name": "stdout",
     "output_type": "stream",
     "text": [
      "2\n"
     ]
    }
   ],
   "source": [
    "x = 10  # Binary: 1010\n",
    "shifted = x >> 2  # Right shift by 2 positions\n",
    "\n",
    "print(shifted)  # Output: 2\n",
    "                                             \n",
    "                                             "
   ]
  },
  {
   "cell_type": "code",
   "execution_count": null,
   "id": "cdd3334f-8fe1-43bb-8af9-8697a70dab08",
   "metadata": {},
   "outputs": [],
   "source": [
    "\"\"\"(ii) left shift operator- The left shift operator (<<) are bitwise shift operators. It moves the bits of a number towards the left by a specified number of positions.\n",
    "Each shift to the left effectively multiplies the number by 2. The leftmost bit is discarded, and a new bit of 0 is inserted at the rightmost position.  \n",
    "\"\"\""
   ]
  },
  {
   "cell_type": "code",
   "execution_count": 9,
   "id": "9e0f596d-2dee-463f-b7a6-e65a06e45ff0",
   "metadata": {},
   "outputs": [
    {
     "name": "stdout",
     "output_type": "stream",
     "text": [
      "40\n"
     ]
    }
   ],
   "source": [
    "x = 5  # Binary: 101\n",
    "shifted = x << 3  # Left shift by 3 positions\n",
    "\n",
    "print(shifted)  # Output: 40\n",
    "\n",
    "\n"
   ]
  },
  {
   "cell_type": "code",
   "execution_count": 10,
   "id": "205c47bf-3227-4fdc-b39d-390ebf1b731d",
   "metadata": {},
   "outputs": [
    {
     "name": "stdout",
     "output_type": "stream",
     "text": [
      "10 is present in the list.\n"
     ]
    }
   ],
   "source": [
    "\n",
    "\"\"\"\n",
    "\n",
    "Q.5. Create a list containing int type data of length 15. Then write a code to check if 10 is present in the list or not.\n",
    "\n",
    "\"\"\"\n",
    "\n",
    "my_list = [2, 6, 8, 10, 12, 14, 16, 23, 25, 29, 30, 32, 34, 39, 40]\n",
    "\n",
    "# Check if 10 is present in the list\n",
    "if 10 in my_list:\n",
    "    print('10 is present in the list.')\n",
    "else:\n",
    "    print('10 is not present in the list. ')"
   ]
  },
  {
   "cell_type": "code",
   "execution_count": null,
   "id": "48848a1b-6882-4117-af63-71b8ffe96601",
   "metadata": {},
   "outputs": [],
   "source": []
  }
 ],
 "metadata": {
  "kernelspec": {
   "display_name": "Python 3 (ipykernel)",
   "language": "python",
   "name": "python3"
  },
  "language_info": {
   "codemirror_mode": {
    "name": "ipython",
    "version": 3
   },
   "file_extension": ".py",
   "mimetype": "text/x-python",
   "name": "python",
   "nbconvert_exporter": "python",
   "pygments_lexer": "ipython3",
   "version": "3.11.7"
  }
 },
 "nbformat": 4,
 "nbformat_minor": 5
}
