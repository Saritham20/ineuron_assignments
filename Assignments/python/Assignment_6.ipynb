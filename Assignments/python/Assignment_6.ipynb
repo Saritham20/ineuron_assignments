{
 "cells": [
  {
   "cell_type": "markdown",
   "id": "8410a254-a495-48b1-bd49-9bba2e3250fc",
   "metadata": {},
   "source": [
    "'''\n",
    "Q.1. What are keywords in python? Using the keyword library, print all the python keywords.\n",
    "\n",
    "Solution- Keywords in Python are reserved words that have predefined meanings and cannot be used as variable names or identifiers.\n",
    "\n",
    "\n",
    "'''\n"
   ]
  },
  {
   "cell_type": "code",
   "execution_count": 1,
   "id": "c9e43e59-dd7c-4d03-bdb7-ae4d02f31135",
   "metadata": {},
   "outputs": [
    {
     "name": "stdout",
     "output_type": "stream",
     "text": [
      "False\n",
      "None\n",
      "True\n",
      "and\n",
      "as\n",
      "assert\n",
      "async\n",
      "await\n",
      "break\n",
      "class\n",
      "continue\n",
      "def\n",
      "del\n",
      "elif\n",
      "else\n",
      "except\n",
      "finally\n",
      "for\n",
      "from\n",
      "global\n",
      "if\n",
      "import\n",
      "in\n",
      "is\n",
      "lambda\n",
      "nonlocal\n",
      "not\n",
      "or\n",
      "pass\n",
      "raise\n",
      "return\n",
      "try\n",
      "while\n",
      "with\n",
      "yield\n"
     ]
    }
   ],
   "source": [
    "# Program\n",
    "import keyword\n",
    "\n",
    "# Get all the Python keywords as a list\n",
    "all_keywords = keyword.kwlist\n",
    "\n",
    "# Print each keyword\n",
    "for keyword in all_keywords:\n",
    "    print(keyword)\n",
    "\n"
   ]
  },
  {
   "cell_type": "markdown",
   "id": "c7a6a366-1042-4da3-9749-95c29e17668b",
   "metadata": {},
   "source": [
    "'''\n",
    "Q.2. What are the rules to create variables in python?\n",
    "\n",
    "Solution- A variable name must start with a letter or the underscore character\n",
    "          A variable name cannot start with a number\n",
    "          A variable name can only contain alpha-numeric characters and underscores (A-z, 0-9, and _ )\n",
    "          Variable names are case-sensitive (age, Age and AGE are three different variables).\n",
    "'''"
   ]
  },
  {
   "cell_type": "markdown",
   "id": "5ca80d8a-1056-4a3e-918d-2b870281fa35",
   "metadata": {},
   "source": [
    "\"\"\"\n",
    "Q.3. What are the standards and conventions followed for the nomenclature of variables in python to improve code readability and maintainability?\n",
    "\n",
    "Solution- In Python, following certain standards and conventions for variable naming can greatly improve code readability and maintainability. Here are some commonly followed standards and conventions:\n",
    "\n",
    "            1. Use descriptive names: Choose variable names that are meaningful and describe the purpose or content of the variable. This helps in understanding the code and its intent.\n",
    "\n",
    "            2. Use lowercase letters: Variable names in Python are typically written in lowercase letters. This is known as the \"lowercase with underscores\" or \"snake_case\" convention. For example: my_variable, total_count.\n",
    "\n",
    "            3. Separate words with underscores: If a variable name consists of multiple words, separate them with underscores for better readability. This enhances the clarity and distinguishes between individual words. For example: first_name, student_age.\n",
    "\n",
    "            4. Avoid single-letter variable names: While single-letter variable names like x, y, or i are allowed, it's generally recommended to use more descriptive names that convey the purpose of the variable. This improves code readability and makes it easier to understand the context.\n",
    "\n",
    "            5. Be consistent and meaningful: Maintain consistency in naming conventions throughout your codebase. Use variable names that accurately represent the data they hold or the functionality they support. Avoid generic names like data, value, or temp unless the purpose is clear within the context.\n",
    "\n",
    "            6. Follow the PEP 8 style guide: PEP 8 is a widely accepted style guide for Python code. It provides guidelines for writing clean and readable code, including variable naming conventions. Adhering to PEP 8 can make your code more consistent and easier to understand by other developers.\n",
    "\"\"\"\n"
   ]
  },
  {
   "cell_type": "code",
   "execution_count": null,
   "id": "bfd94862-5e7f-4f4d-99a9-8b9db15444bb",
   "metadata": {},
   "outputs": [],
   "source": [
    "Q.4. What will happen if a keyword is used as a variable name?\n",
    "\n",
    "Solution- If a keyword is used as a variable name, it will result in a syntax error. Keywords have predefined meanings and are reserved for specific purposes in the language.\n",
    "          They cannot be used as variable names or identifiers.\n",
    "\n",
    "\"\"\"\n",
    "\n"
   ]
  },
  {
   "cell_type": "markdown",
   "id": "a2e7be66-bedc-4c09-87ac-b39f7e110225",
   "metadata": {},
   "source": [
    "\"\"\"\n",
    "Q.5. For what purpose def keyword is used?\n",
    "\n",
    "Solution- The def keyword is used to create, (or define) a function.\n",
    "\n",
    "\"\"\"\n",
    "\n"
   ]
  },
  {
   "cell_type": "markdown",
   "id": "3ac5f4ae-8dc8-4e47-8472-8620aa0b5abe",
   "metadata": {},
   "source": [
    "\"\"\"\n",
    "Q.6. What is the operation of this special character ‘\\’?\n",
    "\n",
    "Solution- The backslash (\\) is used as an escape character. It is used to indicate that the character following it has a special meaning or needs to be treated differently.\n",
    "\n",
    "\"\"\""
   ]
  },
  {
   "cell_type": "code",
   "execution_count": null,
   "id": "41163db9-2624-462f-aa79-1cfaabef5a92",
   "metadata": {},
   "outputs": [],
   "source": [
    "\"\"\"\n",
    "Q.7. Give an example of the following conditions: \n",
    "(i)   Homogeneous list\n",
    "(ii)  Heterogeneous set\n",
    "(iii) Homogeneous tuple\n",
    "\n",
    "Solution- (i) Homogeneous list: A homogeneous list is a list where all the elements have the same data type.\n",
    "                                Here's an example of a homogeneous list containing integers:\n",
    "                                \n",
    "                                integer_list = [1, 2, 3, 4, 5]\n",
    "            \n",
    "            \n",
    "          (ii) Heterogeneous set: A heterogeneous set is a set where the elements can have different data types.\n",
    "                                  Here's an example of a heterogeneous set containing elements of different types:\n",
    "                                  \n",
    "                                  heterogeneous_set = {1, 'apple', 3.14, True}\n",
    "                                  \n",
    "                                  \n",
    "          (iii) Homogeneous tuple: A homogeneous tuple is a tuple where all the elements have the same data type.\n",
    "                                   Here's an example of a homogeneous tuple containing strings:\n",
    "                                   \n",
    "                                   string_tuple = ('apple', 'banana', 'cherry')\n",
    "\n",
    "\n",
    "\n",
    "\n",
    "\"\"\"\n",
    "\n",
    "\n"
   ]
  },
  {
   "cell_type": "code",
   "execution_count": null,
   "id": "d9c2413d-6afb-41ef-8a06-1e9098d5e7dc",
   "metadata": {},
   "outputs": [],
   "source": [
    "\"\"\"\n",
    "Q.8. Explain the mutable and immutable data types with proper explanation & examples.\n",
    "\n",
    "Solution- (i) Mutable Data Types: Mutable data types are those whose values can be modified after they are created.\n",
    "                                  Examples of mutable data types in Python include:\n",
    "                                  List\n",
    "                                  Set\n",
    "                                  Dictionary\n",
    "                                  \n",
    "                                  Here's an example demonstrating the mutability of a list:\n",
    "                                  \n",
    "                                  my_list = [1, 2, 3]\n",
    "                                  my_list.append(4)       # Adding an element to the list\n",
    "                                  my_list[1] = 5          # Modifying a specific element\n",
    "                                    \n",
    "                                  print(my_list)          # Output: [1, 5, 3, 4]\n",
    "                                  \n",
    "                                  \n",
    "         (ii) Immutable Data Types: Immutable data types are those whose values cannot be modified after they are created. If you need to change the value of an immutable object, you have to create a new object with the desired value.\n",
    "                                    Examples of immutable data types in Python include:\n",
    "\n",
    "                                    Numeric types: int, float, complex\n",
    "                                    String\n",
    "                                    Tuple\n",
    "                                    \n",
    "                                    \n",
    "                                    Here's an example demonstrating the immutability of a string:\n",
    "                                    \n",
    "                                    string = \"Hello\"\n",
    "                                    new_string = string + \" World\"  # Concatenating strings\n",
    "                                    \n",
    "                                    print(string)       # Output: \"Hello\"\n",
    "                                    print(new_string)   # Output: \"Hello World\"\n",
    "\n",
    "\n",
    "\n",
    "\"\"\"\n",
    "\n"
   ]
  },
  {
   "cell_type": "code",
   "execution_count": 6,
   "id": "6edf8ea3-4312-4798-bd6d-f4525a7d3282",
   "metadata": {},
   "outputs": [
    {
     "name": "stdout",
     "output_type": "stream",
     "text": [
      "    *\n",
      "   ***\n",
      "  *****\n",
      " *******\n",
      "*********\n"
     ]
    }
   ],
   "source": [
    "\"\"\"\n",
    "Q.9. Write a code to create the given structure using only for loop.\n",
    "         *\n",
    "        ***\n",
    "       *****\n",
    "      *******\n",
    "     *********\n",
    "\n",
    "\"\"\"\n",
    "\n",
    "# Solution\n",
    "\n",
    "num_rows = 5  # Number of rows in the structure\n",
    "\n",
    "for i in range(num_rows):\n",
    "    # Print spaces before each row\n",
    "    for j in range(num_rows - i - 1):\n",
    "        print(\" \", end=\"\")\n",
    "\n",
    "    # Print asterisks for each row\n",
    "    for k in range(2 * i + 1):\n",
    "        print(\"*\", end=\"\")\n",
    "\n",
    "    print()  # Move to the next line\n",
    "\n"
   ]
  },
  {
   "cell_type": "code",
   "execution_count": 7,
   "id": "29cb3c72-ff8c-4ca3-aec3-329a0bf44a0e",
   "metadata": {},
   "outputs": [
    {
     "name": "stdout",
     "output_type": "stream",
     "text": [
      "|||||||||\n",
      " |||||||\n",
      "  |||||\n",
      "   |||\n",
      "    |\n"
     ]
    }
   ],
   "source": [
    "\"\"\"Q.10. Write a code to create the given structure using while loop.\n",
    "\n",
    "        |||||||||\n",
    "         ||||||| \n",
    "          ||||| \n",
    "           ||| \n",
    "            |\n",
    "\"\"\"\n",
    "# Solution\n",
    "\n",
    "num_rows = 5  # Number of rows in the structure\n",
    "row = num_rows\n",
    "spaces = 0\n",
    "\n",
    "while row > 0:\n",
    "    # Print spaces before each row\n",
    "    spaces_count = 0\n",
    "    while spaces_count < spaces:\n",
    "        print(\" \", end=\"\")\n",
    "        spaces_count += 1\n",
    "\n",
    "    # Print vertical bars for each row\n",
    "    bars_count = 0\n",
    "    while bars_count < 2 * row - 1:\n",
    "        print(\"|\", end=\"\")\n",
    "        bars_count += 1\n",
    "\n",
    "    print()  # Move to the next line\n",
    "    row -= 1\n",
    "    spaces += 1\n"
   ]
  },
  {
   "cell_type": "code",
   "execution_count": null,
   "id": "5e822f01-c523-49f0-bc68-8b24c9b43e01",
   "metadata": {},
   "outputs": [],
   "source": []
  }
 ],
 "metadata": {
  "kernelspec": {
   "display_name": "Python 3 (ipykernel)",
   "language": "python",
   "name": "python3"
  },
  "language_info": {
   "codemirror_mode": {
    "name": "ipython",
    "version": 3
   },
   "file_extension": ".py",
   "mimetype": "text/x-python",
   "name": "python",
   "nbconvert_exporter": "python",
   "pygments_lexer": "ipython3",
   "version": "3.11.7"
  }
 },
 "nbformat": 4,
 "nbformat_minor": 5
}
