{
 "cells": [
  {
   "cell_type": "markdown",
   "id": "9a6e9dc7-2528-49d2-9636-d830ea96499f",
   "metadata": {},
   "source": [
    "### Q1. Query all columns for all American cities in the CITY table with populations larger than 100000. The CountryCode for America is USA.\n",
    "```sql\n",
    "SELECT *\n",
    "FROM CITY\n",
    "WHERE COUNTRYCODE ='USA'\n",
    "AND POPULATION >=100000;\n",
    "```"
   ]
  },
  {
   "cell_type": "markdown",
   "id": "37a1b018-7924-4fa9-9e07-4b75bfd60e16",
   "metadata": {},
   "source": [
    "### Q2. Query the NAME field for all American cities in the CITY table with populations larger than 120000. The CountryCode for America is USA.\n",
    "\n",
    "```SQL\n",
    "SELECT NAME \n",
    "FROM CITY \n",
    "WHERE POPULATION>=120000\n",
    "AND COUNTRYCODE = 'USA';\n",
    "```"
   ]
  },
  {
   "cell_type": "markdown",
   "id": "328d4407-17a8-44b8-afd0-ae12ab4659e2",
   "metadata": {},
   "source": [
    "### Q3.Query all columns (attributes) for every row in the CITY table.\n",
    "\n",
    "```SQL\n",
    "SELECT *\n",
    "FROM CITY;\n",
    "```"
   ]
  },
  {
   "cell_type": "markdown",
   "id": "4355cab4-9958-477f-8ca1-c6fbb016a7c2",
   "metadata": {},
   "source": [
    "### Q4.Query all columns for a city in CITY with the ID 1661.\n",
    "\n",
    "```SQL\n",
    "SELECT *\n",
    "FROM CITY\n",
    "WHERE ID = 1661;\n",
    "```\n",
    "\n"
   ]
  },
  {
   "cell_type": "markdown",
   "id": "504524ec-6ccc-4af9-84b2-40eace8e9d19",
   "metadata": {},
   "source": [
    "### Q5.Query all attributes of every Japanese city in the CITY table. The COUNTRYCODE for Japan is JPN.\n",
    "\n",
    "```SQL\n",
    "SELECT *\n",
    "FROM CITY\n",
    "WHERE COUNTRYCODE='JPN';\n",
    "```\n",
    "\n"
   ]
  },
  {
   "cell_type": "markdown",
   "id": "f717cb16-09ec-4f56-a8c6-d85813f0f33e",
   "metadata": {},
   "source": [
    "### Q6.Query the names of all the Japanese cities in the CITY table. The COUNTRYCODE for Japan is JPN.\n",
    "\n",
    "```SQL\n",
    "SELECT NAME\n",
    "FROM CITY\n",
    "WHERE COUNTRYCODE='JPN';\n",
    "```"
   ]
  },
  {
   "cell_type": "markdown",
   "id": "699e358b-9e22-4a9c-a72e-8a5855925eef",
   "metadata": {},
   "source": [
    "```sql\n",
    "CREATE TABLE STATION(\n",
    "    ID NUMBER NOT NULL,\n",
    "    CITY VARCHAR2(21),\n",
    "    STATE VARCHAR2(2),\n",
    "    LAT_N NUMBER,\n",
    "    LONG_W NUMBER\n",
    "    );\n",
    "\n",
    "```\n",
    "\n",
    "\n",
    "\n",
    "\n"
   ]
  },
  {
   "cell_type": "markdown",
   "id": "148b876c-f7ae-453b-90aa-7aa8b7a1ae45",
   "metadata": {},
   "source": [
    "### Q7.Query a list of CITY and STATE from the STATION table.\n",
    "\n",
    "```SQL\n",
    "SELECT CITY,STATE\n",
    "FROM STATION;\n",
    "```"
   ]
  },
  {
   "cell_type": "markdown",
   "id": "acd1fd3a-d9f6-4df0-9bee-291e869cc109",
   "metadata": {},
   "source": [
    "### Q8.Query a list of CITY names from STATION for cities that have an even ID number. Print the results in any order, but exclude duplicates from the answer.\n",
    "\n",
    "    SELECT Staff_ID  \n",
    "    FROM StaffLIST  \n",
    "    WHERE MOD(Staff_ID,2)=0;\n",
    "\n"
   ]
  },
  {
   "cell_type": "markdown",
   "id": "b275f115-d62d-4168-b612-150c4660eacc",
   "metadata": {},
   "source": [
    "```SQL\n",
    "SELECT DISTINCT CITY\n",
    "FROM STATION\n",
    "WHERE MOD(ID,2)=0;\n",
    "```"
   ]
  }
 ],
 "metadata": {
  "kernelspec": {
   "display_name": "Python 3 (ipykernel)",
   "language": "python",
   "name": "python3"
  },
  "language_info": {
   "codemirror_mode": {
    "name": "ipython",
    "version": 3
   },
   "file_extension": ".py",
   "mimetype": "text/x-python",
   "name": "python",
   "nbconvert_exporter": "python",
   "pygments_lexer": "ipython3",
   "version": "3.11.7"
  }
 },
 "nbformat": 4,
 "nbformat_minor": 5
}
