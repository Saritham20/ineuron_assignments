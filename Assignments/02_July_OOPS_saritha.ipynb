{
 "cells": [
  {
   "cell_type": "markdown",
   "id": "72c7a92d-2bfa-4a9a-b105-6821f241f629",
   "metadata": {},
   "source": [
    "**1.Explain what inheritance is in object-oriented programming and why it is used.**"
   ]
  },
  {
   "cell_type": "markdown",
   "id": "d39ee511-3c63-434a-ab4c-54c25d79c49e",
   "metadata": {},
   "source": [
    "Inheritance is a fundamental concept in object-oriented programming (OOP) that allows you to create new classes (derived or child classes)\n",
    "based on existing classes (base or parent classes). This creates a hierarchical relationship between the classes, \n",
    "where the child class inherits attributes and methods from the parent class.   \n",
    "\n",
    "**Why use inheritance?**\n",
    "\n",
    "**Code Reusability:** By inheriting from a parent class, you can reuse code that has already been written and tested. This saves time and effort.\n",
    "\n",
    "**Code Organization:** Inheritance helps organize code into a hierarchical structure, making it easier to understand and maintain.\n",
    "\n",
    "**Polymorphism:** Inheritance is a key component of polymorphism, which allows objects of different classes to be treated as if they\n",
    "were objects of the same class. This makes code more flexible and adaptable.\n",
    "\n",
    "**Extensibility:** Inheritance allows you to extend the functionality of existing classes by adding new attributes and methods to child classes."
   ]
  },
  {
   "cell_type": "markdown",
   "id": "a49a983a-8ea5-4c0f-a957-28859ad635f4",
   "metadata": {},
   "source": [
    "**2.Discuss the concept of single inheritance and multiple inheritance, highlighting their\n",
    "differences and advantages.**"
   ]
  },
  {
   "cell_type": "markdown",
   "id": "f70b873b-80a5-42e1-b3bc-6c5b926178d4",
   "metadata": {},
   "source": [
    "**Single inheritance :** refers to a scenario where \n",
    "a class inherits from only one superclass. This means that the subclass gets its properties and behaviors from a single parent class."
   ]
  },
  {
   "cell_type": "markdown",
   "id": "e36461ff-bbee-466d-b153-64f79afd91e0",
   "metadata": {},
   "source": [
    "**Multiple inheritance:** allows a \n",
    "class to inherit from more than one superclass. This means that the subclass can acquire attributes and behaviors from multiple parent classes."
   ]
  },
  {
   "cell_type": "markdown",
   "id": "26051ea3-db74-4b87-9cd9-f63a6f4e90bd",
   "metadata": {},
   "source": [
    "**Key Differences Between Single and Multiple Inheritance**\n",
    "Feature\tSingle Inheritance\tMultiple Inheritance\n",
    "Definition\tInherits from one superclass.\tInherits from multiple superclasses.\n",
    "Complexity\tSimple and easy to manage.\tCan be more complex and harder to maintain.\n",
    "Code Reuse\tReuses code from only one class.\tReuses code from multiple classes.\n",
    "Flexibility\tLess flexible as it derives from one class.\tMore flexible with access to various classes.\n",
    "Conflict Resolution\tNo conflict, as only one class is inherited.\tRequires conflict resolution if methods in multiple classes share the same name."
   ]
  },
  {
   "cell_type": "markdown",
   "id": "e8a9187c-abca-4d24-9ecc-8642a7c7b7d1",
   "metadata": {},
   "source": [
    "**3.Explain the terms \"base class\" and \"derived class\" in the context of inheritance.**"
   ]
  },
  {
   "cell_type": "markdown",
   "id": "dd360f2d-d565-43db-906a-c61e0a765cb9",
   "metadata": {},
   "source": [
    "A base class (also called a parent class or superclass) is the class that provides attributes and methods to another class. It acts as the foundation from which other classes can derive (inherit) functionality.\n",
    "\n",
    "The base class contains general features, and these features are inherited by other classes.\n",
    "The base class can exist independently and is not dependent on any other class for its behavior.\n",
    "A derived class (also called a child class or subclass) is a class that inherits properties and methods from a base class. It can reuse, extend, or modify the functionality of the base class.\n",
    "\n",
    "The derived class extends or customizes the behavior of the base class by adding new attributes and methods or by overriding existing ones.\n",
    "The derived class inherits all the non-private attributes and methods from the base class, but it can also introduce its own specific functionality."
   ]
  },
  {
   "cell_type": "markdown",
   "id": "375a7c8d-a69e-4cda-8982-a247922a8873",
   "metadata": {},
   "source": [
    "**4.What is the significance of the \"protected\" access modifier in inheritance? How does\n",
    "it differ from \"private\" and \"public\" modifiers?**"
   ]
  },
  {
   "cell_type": "markdown",
   "id": "29982098-c9dd-4c0c-b9db-4e0fa8a4ffcc",
   "metadata": {},
   "source": [
    "**1. Protected Access Modifier**\n",
    "The protected access modifier indicates that a class member (variable or method) can only be accessed:\n",
    "\n",
    "Within the class in which it is defined.\n",
    "By subclasses (derived classes) that inherit from that class."
   ]
  },
  {
   "cell_type": "markdown",
   "id": "7d767fc6-ed5f-42a9-87dc-40bda28ad1d4",
   "metadata": {},
   "source": [
    "**2. Private Access Modifier**\n",
    "The private access modifier restricts access to class members to only within the class where they are defined. These members are not accessible from derived classes or from outside the class.\n",
    "\n",
    "In Python, private members are marked by a double leading underscore (__), which results in name mangling to prevent direct access from outside the class."
   ]
  },
  {
   "cell_type": "markdown",
   "id": "4c58be0d-9648-4df3-8cc8-02a6304f79e1",
   "metadata": {},
   "source": [
    "**3. Public Access Modifier**\n",
    "The public access modifier allows members to be accessed from anywhere. Public members can be accessed by:\n",
    "\n",
    "The class in which they are defined.\n",
    "Any derived classes.\n",
    "Any external classes or objects.\n",
    "In Python, all members are public by default unless explicitly marked as protected or private."
   ]
  },
  {
   "cell_type": "markdown",
   "id": "3f95a78d-cd89-4eae-a355-eef64e23b8a9",
   "metadata": {},
   "source": [
    "| Modifier   | Syntax     | Accessible Within Class | Accessible in Subclasses | Accessible Outside the Class |\n",
    "|------------|------------|-------------------------|--------------------------|------------------------------|\n",
    "| Public     | variable   | Yes                     | Yes                      | Yes                          |\n",
    "| Protected  | _variable  | Yes                     | Yes                      | No                           |\n",
    "| Private    | __variable | Yes                     | No                       | No                           |\n"
   ]
  },
  {
   "cell_type": "code",
   "execution_count": 11,
   "id": "49111dab-7749-4e05-837d-f0aee54a9cbf",
   "metadata": {},
   "outputs": [
    {
     "name": "stdout",
     "output_type": "stream",
     "text": [
      "Parent class: Name = Alice\n",
      "Child class: Age = 12\n"
     ]
    }
   ],
   "source": [
    "class Parent:\n",
    "    def __init__(self, name):\n",
    "        self.name = name\n",
    "\n",
    "    def display(self):\n",
    "        print(f\"Parent class: Name = {self.name}\")\n",
    "\n",
    "class Child(Parent):\n",
    "    def __init__(self, name, age):\n",
    "        # Call the parent class's __init__ method using super\n",
    "        super().__init__(name)\n",
    "        self.age = age\n",
    "\n",
    "    def display(self):\n",
    "        # Call the parent class's display method using super\n",
    "        super().display()  \n",
    "        print(f\"Child class: Age = {self.age}\")\n",
    "\n",
    "# Create an instance of the Child class\n",
    "child_obj = Child(\"Alice\", 12)\n",
    "child_obj.display()\n"
   ]
  },
  {
   "cell_type": "markdown",
   "id": "b0186b9c-0e82-4425-a578-769628287f75",
   "metadata": {},
   "source": [
    "**6.Create a base class called \"Vehicle\" with attributes like \"make\", \"model\", and \"year\".\n",
    "Then, create a derived class called \"Car\" that inherits from \"Vehicle\" and adds an\n",
    "attribute called \"fuel_type\". Implement appropriate methods in both classes.**"
   ]
  },
  {
   "cell_type": "code",
   "execution_count": 14,
   "id": "27ccf21a-042b-4af3-b090-35a59d0ad961",
   "metadata": {},
   "outputs": [
    {
     "name": "stdout",
     "output_type": "stream",
     "text": [
      "Vehicle Info: 2020 Toyota Corolla\n",
      "Vehicle Info: 2021 Honda Civic\n",
      "Fuel Type: Petrol\n"
     ]
    }
   ],
   "source": [
    "\n",
    "\n",
    "# Base class\n",
    "class Vehicle:\n",
    "    def __init__(self, make, model, year):\n",
    "        self.make = make\n",
    "        self.model = model\n",
    "        self.year = year\n",
    "\n",
    "    def display_info(self):\n",
    "        print(f\"Vehicle Info: {self.year} {self.make} {self.model}\")\n",
    "\n",
    "# Derived class\n",
    "class Car(Vehicle):\n",
    "    def __init__(self, make, model, year, fuel_type):\n",
    "        # Call the parent class's constructor using super()\n",
    "        super().__init__(make, model, year)\n",
    "        self.fuel_type = fuel_type\n",
    "\n",
    "    # Override the display_info method to include fuel_type\n",
    "    def display_info(self):\n",
    "        super().display_info()  # Call the parent class's display_info method\n",
    "        print(f\"Fuel Type: {self.fuel_type}\")\n",
    "\n",
    "\n",
    "vehicle = Vehicle(\"Toyota\", \"Corolla\", 2020)\n",
    "vehicle.display_info()\n",
    "\n",
    "\n",
    "\n",
    "\n",
    "car = Car(\"Honda\", \"Civic\", 2021, \"Petrol\")\n",
    "car.display_info()\n"
   ]
  },
  {
   "cell_type": "markdown",
   "id": "214a218b-dbf9-4a22-88af-7e9b1b4b8d28",
   "metadata": {},
   "source": [
    "**7. Create a base class called \"Employee\" with attributes like \"name\" and \"salary.\"\n",
    "Derive two classes, \"Manager\" and \"Developer,\" from \"Employee.\" Add an additional\n",
    "attribute called \"department\" for the \"Manager\" class and \"programming_language\"\n",
    "for the \"Developer\" class**"
   ]
  },
  {
   "cell_type": "code",
   "execution_count": 16,
   "id": "3bd9bc24-20a0-448e-9ad7-41e28afa3e39",
   "metadata": {},
   "outputs": [
    {
     "name": "stdout",
     "output_type": "stream",
     "text": [
      "Name: Alice, Salary: $50000\n",
      "\n",
      "\n",
      "Name: Bob, Salary: $80000\n",
      "Department: Sales\n",
      "\n",
      "\n",
      "Name: Charlie, Salary: $70000\n",
      "Programming Language: Python\n"
     ]
    }
   ],
   "source": [
    "# Base class\n",
    "class Employee:\n",
    "    def __init__(self, name, salary):\n",
    "        self.name = name\n",
    "        self.salary = salary\n",
    "\n",
    "    # display method \n",
    "    def display_info(self):\n",
    "        print(f\"Name: {self.name}, Salary: ${self.salary}\")\n",
    "\n",
    "# Derived class: Manager\n",
    "class Manager(Employee):\n",
    "    def __init__(self, name, salary, department):\n",
    "        # Call the parent class's constructor\n",
    "        super().__init__(name, salary)\n",
    "        self.department = department\n",
    "\n",
    "    # Override display_info to include department\n",
    "    def display_info(self):\n",
    "        super().display_info()  # Call the parent class's display_info method\n",
    "        print(f\"Department: {self.department}\")\n",
    "\n",
    "# Derived class: Developer\n",
    "class Developer(Employee):\n",
    "    def __init__(self, name, salary, programming_language):\n",
    "        # Call the parent class's constructor\n",
    "        super().__init__(name, salary)\n",
    "        self.programming_language = programming_language\n",
    "\n",
    "    # Override display_info to include programming language\n",
    "    def display_info(self):\n",
    "        super().display_info()  # Call the parent class's display_info method\n",
    "        print(f\"Programming Language: {self.programming_language}\")\n",
    "\n",
    "\n",
    "employee = Employee(\"Alice\", 50000)\n",
    "employee.display_info()\n",
    "\n",
    "print(\"\\n\")\n",
    "\n",
    "manager = Manager(\"Bob\", 80000, \"Sales\")\n",
    "manager.display_info()\n",
    "\n",
    "print(\"\\n\")\n",
    "\n",
    "developer = Developer(\"Charlie\", 70000, \"Python\")\n",
    "developer.display_info()\n"
   ]
  },
  {
   "cell_type": "markdown",
   "id": "1887b90b-6d2c-4044-91fb-0057b3fb3c4a",
   "metadata": {},
   "source": [
    "**8. Design a base class called \"Shape\" with attributes like \"colour\" and \"border_width.\"\n",
    "Create derived classes, \"Rectangle\" and \"Circle,\" that inherit from \"Shape\" and add\n",
    "specific attributes like \"length\" and \"width\" for the \"Rectangle\" class and \"radius\" for\n",
    "the \"Circle\" class**"
   ]
  },
  {
   "cell_type": "code",
   "execution_count": 18,
   "id": "8a7fc1b4-82fc-4f4a-9fc9-f7f36cdc465d",
   "metadata": {},
   "outputs": [
    {
     "name": "stdout",
     "output_type": "stream",
     "text": [
      "Shape Colour: Red, Border Width: 2\n",
      "\n",
      "\n",
      "Shape Colour: Blue, Border Width: 3\n",
      "Rectangle Length: 5, Width: 10\n",
      "\n",
      "\n",
      "Shape Colour: Green, Border Width: 1\n",
      "Circle Radius: 7\n"
     ]
    }
   ],
   "source": [
    "# Base class\n",
    "class Shape:\n",
    "    def __init__(self, colour, border_width):\n",
    "        self.colour = colour\n",
    "        self.border_width = border_width\n",
    "\n",
    "    # Method to display shape details\n",
    "    def display_info(self):\n",
    "        print(f\"Shape Colour: {self.colour}, Border Width: {self.border_width}\")\n",
    "\n",
    "# Derived class: Rectangle\n",
    "class Rectangle(Shape):\n",
    "    def __init__(self, colour, border_width, length, width):\n",
    "        # Call the parent class's constructor\n",
    "        super().__init__(colour, border_width)\n",
    "        self.length = length\n",
    "        self.width = width\n",
    "\n",
    "    # Override display_info to include rectangle details\n",
    "    def display_info(self):\n",
    "        super().display_info()  # Call the parent class's display_info method\n",
    "        print(f\"Rectangle Length: {self.length}, Width: {self.width}\")\n",
    "\n",
    "# Derived class: Circle\n",
    "class Circle(Shape):\n",
    "    def __init__(self, colour, border_width, radius):\n",
    "        # Call the parent class's constructor\n",
    "        super().__init__(colour, border_width)\n",
    "        self.radius = radius\n",
    "\n",
    "    # Override display_info \n",
    "    def display_info(self):\n",
    "        super().display_info()  # Call the parent class's display_info method\n",
    "        print(f\"Circle Radius: {self.radius}\")\n",
    "\n",
    "\n",
    "shape = Shape(\"Red\", 2)\n",
    "shape.display_info()\n",
    "\n",
    "print(\"\\n\")\n",
    "\n",
    "rectangle = Rectangle(\"Blue\", 3, 5, 10)\n",
    "rectangle.display_info()\n",
    "\n",
    "print(\"\\n\")\n",
    "\n",
    "circle = Circle(\"Green\", 1, 7)\n",
    "circle.display_info()\n"
   ]
  },
  {
   "cell_type": "markdown",
   "id": "ac325f87-d44b-4553-9a9b-5286e00f7df2",
   "metadata": {},
   "source": [
    "**9. Create a base class called \"Device\" with attributes like \"brand\" and \"model.\" Derive\n",
    "two classes, \"Phone\" and \"Tablet,\" from \"Device.\" Add specific attributes like\n",
    "\"screen_size\" for the \"Phone\" class and \"battery_capacity\" for the \"Tablet\" class.**"
   ]
  },
  {
   "cell_type": "code",
   "execution_count": 20,
   "id": "5acb8393-62fd-4960-a4e7-5c7da64a884b",
   "metadata": {},
   "outputs": [
    {
     "name": "stdout",
     "output_type": "stream",
     "text": [
      "Brand: Generic Brand, Model: Model X\n",
      "\n",
      "\n",
      "Brand: Samsung, Model: Galaxy S21\n",
      "Screen Size: 6.2 inches\n",
      "\n",
      "\n",
      "Brand: Apple, Model: iPad Air\n",
      "Battery Capacity: 7500 mAh\n"
     ]
    }
   ],
   "source": [
    "# Base class\n",
    "class Device:\n",
    "    def __init__(self, brand, model):\n",
    "        self.brand = brand\n",
    "        self.model = model\n",
    "\n",
    "    # Method to display device details\n",
    "    def display_info(self):\n",
    "        print(f\"Brand: {self.brand}, Model: {self.model}\")\n",
    "\n",
    "# Derived class: Phone\n",
    "class Phone(Device):\n",
    "    def __init__(self, brand, model, screen_size):\n",
    "        # Call the parent class's constructor\n",
    "        super().__init__(brand, model)\n",
    "        self.screen_size = screen_size\n",
    "\n",
    "    # Override display_info to include phone details\n",
    "    def display_info(self):\n",
    "        super().display_info()  # Call the parent class's display_info method\n",
    "        print(f\"Screen Size: {self.screen_size} inches\")\n",
    "\n",
    "# Derived class: Tablet\n",
    "class Tablet(Device):\n",
    "    def __init__(self, brand, model, battery_capacity):\n",
    "        # Call the parent class's constructor\n",
    "        super().__init__(brand, model)\n",
    "        self.battery_capacity = battery_capacity\n",
    "\n",
    "    # Override display_info to include tablet details\n",
    "    def display_info(self):\n",
    "        super().display_info()  # Call the parent class's display_info method\n",
    "        print(f\"Battery Capacity: {self.battery_capacity} mAh\")\n",
    "\n",
    "\n",
    "device = Device(\"Generic Brand\", \"Model X\")\n",
    "device.display_info()\n",
    "\n",
    "print(\"\\n\")\n",
    "\n",
    "phone = Phone(\"Samsung\", \"Galaxy S21\", 6.2)\n",
    "phone.display_info()\n",
    "\n",
    "print(\"\\n\")\n",
    "\n",
    "tablet = Tablet(\"Apple\", \"iPad Air\", 7500)\n",
    "tablet.display_info()\n"
   ]
  },
  {
   "cell_type": "markdown",
   "id": "7dc641b6-b30c-448f-aef4-b30413fe8d62",
   "metadata": {},
   "source": [
    "**10. Create a base class called \"BankAccount\" with attributes like \"account_number\" and\n",
    "\"balance.\" Derive two classes, \"SavingsAccount\" and \"CheckingAccount,\" from\n",
    "\"BankAccount.\" Add specific methods like \"calculate_interest\" for the\n",
    "\"SavingsAccount\" class and \"deduct_fees\" for the \"CheckingAccount\" class.**"
   ]
  },
  {
   "cell_type": "code",
   "execution_count": 22,
   "id": "25e0f6fa-fa79-4923-b9bd-b0707285b429",
   "metadata": {},
   "outputs": [
    {
     "name": "stdout",
     "output_type": "stream",
     "text": [
      "Account Number: S123456, Balance: $1000.00\n",
      "Interest of $50.00 has been added to the account.\n",
      "Account Number: S123456, Balance: $1050.00\n",
      "\n",
      "\n",
      "Account Number: C123456, Balance: $500.00\n",
      "Fee of $50.00 has been deducted from the account.\n",
      "Account Number: C123456, Balance: $450.00\n"
     ]
    }
   ],
   "source": [
    "# Base class\n",
    "class BankAccount:\n",
    "    def __init__(self, account_number, balance):\n",
    "        self.account_number = account_number\n",
    "        self.balance = balance\n",
    "\n",
    "    # Method to display account details\n",
    "    def display_info(self):\n",
    "        print(f\"Account Number: {self.account_number}, Balance: ${self.balance:.2f}\")\n",
    "\n",
    "# Derived class: SavingsAccount\n",
    "class SavingsAccount(BankAccount):\n",
    "    def __init__(self, account_number, balance):\n",
    "        # Call the parent class's constructor\n",
    "        super().__init__(account_number, balance)\n",
    "\n",
    "    # Method to calculate interest\n",
    "    def calculate_interest(self, rate):\n",
    "        interest = self.balance * (rate / 100)\n",
    "        self.balance += interest\n",
    "        print(f\"Interest of ${interest:.2f} has been added to the account.\")\n",
    "\n",
    "# Derived class: CheckingAccount\n",
    "class CheckingAccount(BankAccount):\n",
    "    def __init__(self, account_number, balance):\n",
    "        # Call the parent class's constructor\n",
    "        super().__init__(account_number, balance)\n",
    "\n",
    "    # Method to deduct fees\n",
    "    def deduct_fees(self, fee):\n",
    "        if self.balance >= fee:\n",
    "            self.balance -= fee\n",
    "            print(f\"Fee of ${fee:.2f} has been deducted from the account.\")\n",
    "        else:\n",
    "            print(\"Insufficient balance to deduct the fee.\")\n",
    "\n",
    "\n",
    "savings = SavingsAccount(\"S123456\", 1000)\n",
    "savings.display_info()\n",
    "savings.calculate_interest(5)  # 5% interest\n",
    "savings.display_info()\n",
    "\n",
    "print(\"\\n\")\n",
    "\n",
    "checking = CheckingAccount(\"C123456\", 500)\n",
    "checking.display_info()\n",
    "checking.deduct_fees(50)  # Deducting a fee of $50\n",
    "checking.display_info()\n"
   ]
  },
  {
   "cell_type": "code",
   "execution_count": null,
   "id": "4050521d-5fdd-4db5-bbbc-0bd1ffd504f7",
   "metadata": {},
   "outputs": [],
   "source": []
  }
 ],
 "metadata": {
  "kernelspec": {
   "display_name": "Python 3 (ipykernel)",
   "language": "python",
   "name": "python3"
  },
  "language_info": {
   "codemirror_mode": {
    "name": "ipython",
    "version": 3
   },
   "file_extension": ".py",
   "mimetype": "text/x-python",
   "name": "python",
   "nbconvert_exporter": "python",
   "pygments_lexer": "ipython3",
   "version": "3.11.7"
  }
 },
 "nbformat": 4,
 "nbformat_minor": 5
}
